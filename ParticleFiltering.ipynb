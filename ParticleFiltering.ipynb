{
 "cells": [
  {
   "cell_type": "code",
   "execution_count": 30,
   "metadata": {
    "collapsed": false
   },
   "outputs": [
    {
     "name": "stdout",
     "output_type": "stream",
     "text": [
      "Using matplotlib backend: Qt4Agg\n",
      "Populating the interactive namespace from numpy and matplotlib\n"
     ]
    }
   ],
   "source": [
    "%pylab\n",
    "from importlib import reload\n",
    "import particleFilter\n",
    "reload(particleFilter)\n",
    "from particleFilter import forwardSim, MyParticle, ParticlePopulation, multivariate_uniform,get_weight_single_particle\n"
   ]
  },
  {
   "cell_type": "markdown",
   "metadata": {
    "collapsed": false
   },
   "source": [
    "# creat some toydata"
   ]
  },
  {
   "cell_type": "code",
   "execution_count": 31,
   "metadata": {
    "collapsed": false
   },
   "outputs": [],
   "source": [
    "traj =[]\n",
    "dt = 10\n",
    "rates = [0.5, 0.05, 0.5, 0.05]\n",
    "traj.append([0,0])\n",
    "\n",
    "s,_,_ = forwardSim(iniT=0, iniS=traj[-1], maxTime=dt, rates=rates)\n",
    "traj.append(s)"
   ]
  },
  {
   "cell_type": "code",
   "execution_count": 32,
   "metadata": {
    "collapsed": false,
    "scrolled": true
   },
   "outputs": [],
   "source": [
    "# build some observed trajectory\n",
    "for i in range(10):\n",
    "    s, _,_ = forwardSim(iniT=i*dt, iniS=traj[-1], maxTime=i*dt+dt, rates=rates)\n",
    "    traj.append(s)"
   ]
  },
  {
   "cell_type": "markdown",
   "metadata": {},
   "source": [
    "# build the prior population"
   ]
  },
  {
   "cell_type": "code",
   "execution_count": 33,
   "metadata": {
    "collapsed": false
   },
   "outputs": [],
   "source": [
    "lB, uB = np.array([-2,-4,-2,-4]), np.array([0,0,0,0]) # lower and upper bounds of parameters: natural log!!\n",
    "\n",
    "nParticles = 1000\n",
    "prior_thetas = multivariate_uniform(nParticles, lB,uB) #the sampling\n",
    "\n",
    "prior = ParticlePopulation()\n",
    "for i in range(nParticles):\n",
    "    p = MyParticle(prior_thetas[i,:], [0,0])\n",
    "    prior.addParticle(p, 1)"
   ]
  },
  {
   "cell_type": "markdown",
   "metadata": {
    "collapsed": true
   },
   "source": [
    "# the paricle filtering"
   ]
  },
  {
   "cell_type": "code",
   "execution_count": 36,
   "metadata": {
    "collapsed": false,
    "scrolled": true
   },
   "outputs": [
    {
     "name": "stdout",
     "output_type": "stream",
     "text": [
      "Population  1\n",
      "Population  2\n",
      "Population  3\n",
      "Population  4\n",
      "Population  5\n",
      "Population  6\n",
      "Population  7\n",
      "Population  8\n",
      "Population  9\n",
      "Population  10\n",
      "Population  11\n"
     ]
    }
   ],
   "source": [
    "nParticles = 1000\n",
    "populations = [prior]\n",
    "\n",
    "prior_alpha = 1\n",
    "prior_beta = 1\n",
    "\n",
    "for i in range(1, len(traj)): # for one time step: oen pop\n",
    "    print('Population ', i)\n",
    "    newPopulation = ParticlePopulation()\n",
    "    \n",
    "    for n in range(nParticles):\n",
    "        \n",
    "        #sampel a particle from the previous population\n",
    "        newPart = next(populations[-1].sample_from_population_generator(1)) # returns an generator\n",
    "        \n",
    "        p,state,counter,G = newPart.get_weight_single_particle(tau=dt, datapoint =traj[i][1] )\n",
    "        \n",
    "        #print(p,state, newPart.theta)\n",
    "        #print('////')\n",
    "        \n",
    "        #update the particle (ie updating the gamma-parameters and the state)\n",
    "#         newTheta = np.random.gamma(shape=counter+prior_alpha,scale=1/(G+prior_beta))\n",
    "#         newAlpha = newPart.theta[0:4] + counter \n",
    "#         newBeta = newPart.theta[5:] + G\n",
    "        \n",
    "#         pa = MyParticle(np.concatenate((newAlpha, newBeta),0), state)\n",
    "        pa = MyParticle(newPart.theta, state)\n",
    "        newPopulation.addParticle(pa, p)\n",
    "        \n",
    "    populations.append(newPopulation)"
   ]
  },
  {
   "cell_type": "code",
   "execution_count": 37,
   "metadata": {
    "collapsed": false,
    "scrolled": true
   },
   "outputs": [],
   "source": [
    "populations[-1].plot_population_sample(1000)"
   ]
  },
  {
   "cell_type": "code",
   "execution_count": 38,
   "metadata": {
    "collapsed": false,
    "scrolled": true
   },
   "outputs": [],
   "source": [
    "populations[3].plot_population_sample(1000)"
   ]
  },
  {
   "cell_type": "code",
   "execution_count": 39,
   "metadata": {
    "collapsed": false
   },
   "outputs": [
    {
     "data": {
      "text/plain": [
       "[<matplotlib.lines.Line2D at 0x7f3cd4066f60>,\n",
       " <matplotlib.lines.Line2D at 0x7f3cb2e3ab70>]"
      ]
     },
     "execution_count": 39,
     "metadata": {},
     "output_type": "execute_result"
    }
   ],
   "source": [
    "# plot the hidden state trajectory\n",
    "nSamples = 1000\n",
    "RNA_over_time = zeros((nSamples, len(traj)))\n",
    "for i, pop in enumerate(populations):\n",
    "    m = pop.sample_from_population_matrix(nSamples)\n",
    "    RNA_over_time[:,i] = m[:,4]\n",
    "import seaborn as sns\n",
    "sns.violinplot(data=RNA_over_time)\n",
    "plot(traj)        "
   ]
  },
  {
   "cell_type": "code",
   "execution_count": 41,
   "metadata": {
    "collapsed": false
   },
   "outputs": [
    {
     "name": "stderr",
     "output_type": "stream",
     "text": [
      "/home/michi/anaconda3/envs/NLP/lib/python3.4/site-packages/matplotlib/collections.py:590: FutureWarning: elementwise comparison failed; returning scalar instead, but in the future will perform elementwise comparison\n",
      "  if self._edgecolors == str('face'):\n"
     ]
    },
    {
     "data": {
      "text/plain": [
       "<matplotlib.axes._subplots.AxesSubplot at 0x7f3caf894518>"
      ]
     },
     "execution_count": 41,
     "metadata": {},
     "output_type": "execute_result"
    }
   ],
   "source": [
    "# plot the parameters trajectory\n",
    "nSamples = 500\n",
    "theta_over_time = zeros((nSamples, len(traj)))\n",
    "for i, pop in enumerate(populations):\n",
    "    m = pop.sample_from_population_matrix(nSamples)\n",
    "    theta_over_time[:,i] = m[:,1]\n",
    "import seaborn as sns\n",
    "figure();\n",
    "sns.violinplot(data=theta_over_time, inner=\"stick\")"
   ]
  },
  {
   "cell_type": "code",
   "execution_count": null,
   "metadata": {
    "collapsed": true
   },
   "outputs": [],
   "source": []
  }
 ],
 "metadata": {
  "kernelspec": {
   "display_name": "Python 3",
   "language": "python",
   "name": "python3"
  },
  "language_info": {
   "codemirror_mode": {
    "name": "ipython",
    "version": 3
   },
   "file_extension": ".py",
   "mimetype": "text/x-python",
   "name": "python",
   "nbconvert_exporter": "python",
   "pygments_lexer": "ipython3",
   "version": "3.4.3"
  }
 },
 "nbformat": 4,
 "nbformat_minor": 0
}
