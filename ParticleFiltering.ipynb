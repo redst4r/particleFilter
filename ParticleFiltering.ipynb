{
 "cells": [
  {
   "cell_type": "code",
   "execution_count": 1,
   "metadata": {
    "collapsed": false
   },
   "outputs": [
    {
     "name": "stdout",
     "output_type": "stream",
     "text": [
      "Using matplotlib backend: Qt4Agg\n",
      "Populating the interactive namespace from numpy and matplotlib\n"
     ]
    }
   ],
   "source": [
    "%pylab\n",
    "from importlib import reload\n",
    "import particleFilter\n",
    "reload(particleFilter)\n",
    "from particleFilter import forwardSim, MyParticle, ParticlePopulation, multivariate_uniform, plot_posterior_rates\n",
    "import pandas as pd"
   ]
  },
  {
   "cell_type": "markdown",
   "metadata": {
    "collapsed": false
   },
   "source": [
    "# creat some toydata"
   ]
  },
  {
   "cell_type": "code",
   "execution_count": 2,
   "metadata": {
    "collapsed": false
   },
   "outputs": [],
   "source": [
    "def createData(rates,dt,initial):\n",
    "    traj =[]\n",
    "    traj.append(initial)\n",
    "\n",
    "    # build some observed trajectory\n",
    "    for i in range(30):\n",
    "        s, _,_ = forwardSim(iniT=i*dt, iniS=traj[-1], maxTime=i*dt+dt, rates=rates)\n",
    "        traj.append(s)\n",
    "    return traj"
   ]
  },
  {
   "cell_type": "code",
   "execution_count": 3,
   "metadata": {
    "collapsed": false
   },
   "outputs": [],
   "source": [
    "dt = 50\n",
    "rates = [0.05, 0.005, 0.5, 0.05]\n",
    "initial = [10,100]\n",
    "\n",
    "traj = createData(rates,dt,initial)\n",
    "traj2 = createData(rates,dt,initial)"
   ]
  },
  {
   "cell_type": "code",
   "execution_count": 4,
   "metadata": {
    "collapsed": false
   },
   "outputs": [
    {
     "data": {
      "text/plain": [
       "[<matplotlib.lines.Line2D at 0x7ff7241843c8>,\n",
       " <matplotlib.lines.Line2D at 0x7ff7241845c0>]"
      ]
     },
     "execution_count": 4,
     "metadata": {},
     "output_type": "execute_result"
    }
   ],
   "source": [
    "figure()\n",
    "plot(traj)\n",
    "\n",
    "figure()\n",
    "plot(traj2)"
   ]
  },
  {
   "cell_type": "markdown",
   "metadata": {
    "collapsed": true
   },
   "source": [
    "# using the gamma prior/posterior of rates"
   ]
  },
  {
   "cell_type": "code",
   "execution_count": 5,
   "metadata": {
    "collapsed": false,
    "scrolled": true
   },
   "outputs": [],
   "source": [
    "from particleFilter import MyGammaParticle\n",
    "#import progressbar\n",
    "import multiprocessing as mp\n",
    "def GammaParticleFilter(nParticles, observedTrajectory, VERBOSE=False):\n",
    "    \n",
    "    #create the prior\n",
    "    prior = ParticlePopulation()\n",
    "    for i in range(nParticles):\n",
    "        #p = MyGammaParticle(alpha=np.array([1,1,1,1]),beta=np.array([1,1,1,1]), state=initial)\n",
    "        p = MyGammaParticle(alpha=np.array([0.5,0.05,5,0.5]),beta=np.array([10,10,10,10]), state=initial)\n",
    "        prior.addParticle(p, 1)\n",
    "    \n",
    "    # iteratove posteriors for the next TPs\n",
    "    populations = [prior]\n",
    "    \n",
    "    #bar = progressbar.ProgressBar()\n",
    "    nTimepoints = len(observedTrajectory)\n",
    "    for i in range(1,nTimepoints): # for one time step: oen pop\n",
    "        if VERBOSE:\n",
    "            print('Population ', i)\n",
    "            \n",
    "        lastPop = populations[-1]\n",
    "        #newPopulation = update_particle_population(lastPop, dt, datapoint=traj[i][1])\n",
    "        #alternative: parallel processing\n",
    "        print('going paralell')\n",
    "        newPopulation = update_particle_population_parallel(lastPop, dt, datapoint=traj[i][1], nCores=12)\n",
    "        \n",
    "        assert newPopulation.get_number_of_particles() == nParticles\n",
    "        populations.append(newPopulation)\n",
    "        \n",
    "        # to get a handle on the degeneracy, sample and see how many unique particles we get\n",
    "        print('unique particles:', 1.0*sum(newPopulation.sample_from_population_ix(nParticles)>0)/nParticles)\n",
    "        \n",
    "    \n",
    "    return populations\n",
    "\n",
    "\n",
    "def update_particle_population(currentPopulation, dt, datapoint):\n",
    "    nParticles = currentPopulation.get_number_of_particles()\n",
    "    newPopulation = ParticlePopulation()\n",
    "    #sampel a particle from the previous population and calc the weights/udpates\n",
    "    for newPart in currentPopulation.sample_from_population_generator(nParticles):\n",
    "        \n",
    "        pa, weight = update_single_particle(newPart, dt, datapoint)\n",
    "        newPopulation.addParticle(pa, weight)\n",
    "\n",
    "    return newPopulation\n",
    "\n",
    "def update_particle_population_parallel(currentPopulation, dt, datapoint, nCores=2):\n",
    "    \"\"\"update the population's particles in parallel\"\"\"\n",
    "\n",
    "\n",
    "    nParticles = currentPopulation.get_number_of_particles()\n",
    "    sample_generator = currentPopulation.sample_from_population_generator(nParticles)\n",
    "    \n",
    "    with mp.Pool(processes=nCores) as pool:\n",
    "        results = [pool.apply_async(update_single_particle, args=(newPart, dt, datapoint)) for newPart in sample_generator]\n",
    "        # the async call doesnt yield the returns of the function immediatly\n",
    "        output = [p.get() for p in results]\n",
    "        \n",
    "    #aggregate the results into the new population\n",
    "    newPopulation = ParticlePopulation()\n",
    "    for pa, weight in output:\n",
    "        newPopulation.addParticle(pa, weight)\n",
    "        \n",
    "    return newPopulation\n",
    "\n",
    "\n",
    "def update_single_particle(particle, dt, datapoint):\n",
    "    \"\"\"\n",
    "    update a single particle if we see the single datapoint\n",
    "    also calculate its weight\n",
    "    \"\"\"\n",
    "    weight,state,counter,G = particle.get_weight_single_particle(tau=dt, datapoint=datapoint )\n",
    "\n",
    "    #update the particle (ie updating the gamma-parameters and the state)\n",
    "    newAlpha = particle.alpha + counter \n",
    "    newBeta = particle.beta + G\n",
    "    pa = MyGammaParticle(alpha=newAlpha, beta=newBeta, state=state)\n",
    "    return pa, weight"
   ]
  },
  {
   "cell_type": "code",
   "execution_count": 200,
   "metadata": {
    "collapsed": false
   },
   "outputs": [
    {
     "name": "stdout",
     "output_type": "stream",
     "text": [
      "[ 0.01570513  0.00109801  0.46888762  0.04399291] [ 14 121] 0.000246443833695\n"
     ]
    }
   ],
   "source": [
    "q, w =update_single_particle(populationsA[-1].particles[76], dt, datapoint=traj[1][1])\n",
    "print(q.alpha/q.beta, q.state, w)"
   ]
  },
  {
   "cell_type": "code",
   "execution_count": 6,
   "metadata": {
    "collapsed": false,
    "scrolled": true
   },
   "outputs": [
    {
     "name": "stdout",
     "output_type": "stream",
     "text": [
      "Population  1\n",
      "going paralell\n",
      "unique particles: 0.26\n",
      "Population  2\n",
      "going paralell\n",
      "unique particles: 0.01\n"
     ]
    }
   ],
   "source": [
    "nParticles = 100\n",
    "populationsA = GammaParticleFilter(nParticles,observedTrajectory=traj[:3], VERBOSE=True)\n",
    "#populationsB = GammaParticleFilter(nParticles,observedTrajectory=traj2, VERBOSE=True)"
   ]
  },
  {
   "cell_type": "code",
   "execution_count": 7,
   "metadata": {
    "collapsed": true
   },
   "outputs": [],
   "source": [
    "%load_ext snakeviz"
   ]
  },
  {
   "cell_type": "code",
   "execution_count": 8,
   "metadata": {
    "collapsed": false
   },
   "outputs": [
    {
     "name": "stdout",
     "output_type": "stream",
     "text": [
      " \n",
      "*** Profile stats marshalled to file '/tmp/tmpfs5y66bq'. \n"
     ]
    }
   ],
   "source": [
    "%%snakeviz\n",
    "update_particle_population(populationsA[0], dt, traj[1][1])"
   ]
  },
  {
   "cell_type": "markdown",
   "metadata": {},
   "source": [
    "## Eval"
   ]
  },
  {
   "cell_type": "code",
   "execution_count": 87,
   "metadata": {
    "collapsed": false
   },
   "outputs": [
    {
     "name": "stderr",
     "output_type": "stream",
     "text": [
      "/home/michi/anaconda3/envs/NLP/lib/python3.4/site-packages/matplotlib/axes/_base.py:2767: UserWarning: Attempting to set identical left==right results\n",
      "in singular transformations; automatically expanding.\n",
      "left=150.1, right=150.1\n",
      "  'left=%s, right=%s') % (left, right))\n",
      "/home/michi/anaconda3/envs/NLP/lib/python3.4/site-packages/matplotlib/axes/_base.py:3025: UserWarning: Attempting to set identical bottom==top results\n",
      "in singular transformations; automatically expanding.\n",
      "bottom=150.1, top=150.1\n",
      "  'bottom=%s, top=%s') % (bottom, top))\n"
     ]
    }
   ],
   "source": [
    "populationsA[-1].plot_population_sample(100)\n",
    "#populationsB[-1].plot_population_sample(100)"
   ]
  },
  {
   "cell_type": "code",
   "execution_count": 196,
   "metadata": {
    "collapsed": false
   },
   "outputs": [],
   "source": [
    "populations = populationsA"
   ]
  },
  {
   "cell_type": "code",
   "execution_count": 197,
   "metadata": {
    "collapsed": false
   },
   "outputs": [],
   "source": [
    "plot_posterior_rates(populations[-1], 100)"
   ]
  },
  {
   "cell_type": "code",
   "execution_count": 194,
   "metadata": {
    "collapsed": false
   },
   "outputs": [],
   "source": [
    "# plot the hidden state trajectory\n",
    "nSamples = 100\n",
    "RNA_over_time = zeros((nSamples, len(traj)))\n",
    "for i, pop in enumerate(populations):\n",
    "    m = pop.sample_from_population_matrix(nSamples)\n",
    "    RNA_over_time[:,i] = m[:,8]\n",
    "#import seaborn as sns\n",
    "figure()\n",
    "#sns.violinplot(data=RNA_over_time)\n",
    "\n",
    "boxplot(RNA_over_time)\n",
    "plot(traj) ;"
   ]
  },
  {
   "cell_type": "code",
   "execution_count": 134,
   "metadata": {
    "collapsed": false
   },
   "outputs": [
    {
     "data": {
      "text/plain": [
       "(31,)"
      ]
     },
     "execution_count": 134,
     "metadata": {},
     "output_type": "execute_result"
    }
   ],
   "source": []
  },
  {
   "cell_type": "code",
   "execution_count": 198,
   "metadata": {
    "collapsed": false
   },
   "outputs": [
    {
     "ename": "ImportError",
     "evalue": "No module named 'seaborn'",
     "output_type": "error",
     "traceback": [
      "\u001b[1;31m---------------------------------------------------------------------------\u001b[0m",
      "\u001b[1;31mImportError\u001b[0m                               Traceback (most recent call last)",
      "\u001b[1;32m<ipython-input-198-70f9e683060f>\u001b[0m in \u001b[0;36m<module>\u001b[1;34m()\u001b[0m\n\u001b[0;32m      6\u001b[0m     \u001b[0mm\u001b[0m \u001b[1;33m=\u001b[0m \u001b[0mpop\u001b[0m\u001b[1;33m.\u001b[0m\u001b[0msample_from_population_matrix\u001b[0m\u001b[1;33m(\u001b[0m\u001b[0mnSamples\u001b[0m\u001b[1;33m)\u001b[0m\u001b[1;33m\u001b[0m\u001b[0m\n\u001b[0;32m      7\u001b[0m     \u001b[0mtheta_over_time\u001b[0m\u001b[1;33m[\u001b[0m\u001b[1;33m:\u001b[0m\u001b[1;33m,\u001b[0m\u001b[0mi\u001b[0m\u001b[1;33m]\u001b[0m \u001b[1;33m=\u001b[0m \u001b[0mm\u001b[0m\u001b[1;33m[\u001b[0m\u001b[1;33m:\u001b[0m\u001b[1;33m,\u001b[0m\u001b[1;36m2\u001b[0m\u001b[1;33m]\u001b[0m\u001b[1;33m/\u001b[0m\u001b[0mm\u001b[0m\u001b[1;33m[\u001b[0m\u001b[1;33m:\u001b[0m\u001b[1;33m,\u001b[0m\u001b[1;36m6\u001b[0m\u001b[1;33m]\u001b[0m\u001b[1;33m\u001b[0m\u001b[0m\n\u001b[1;32m----> 8\u001b[1;33m \u001b[1;32mimport\u001b[0m \u001b[0mseaborn\u001b[0m \u001b[1;32mas\u001b[0m \u001b[0msns\u001b[0m\u001b[1;33m\u001b[0m\u001b[0m\n\u001b[0m\u001b[0;32m      9\u001b[0m \u001b[0mfigure\u001b[0m\u001b[1;33m(\u001b[0m\u001b[1;33m)\u001b[0m\u001b[1;33m;\u001b[0m\u001b[1;33m\u001b[0m\u001b[0m\n\u001b[0;32m     10\u001b[0m \u001b[0msns\u001b[0m\u001b[1;33m.\u001b[0m\u001b[0mviolinplot\u001b[0m\u001b[1;33m(\u001b[0m\u001b[0mdata\u001b[0m\u001b[1;33m=\u001b[0m\u001b[0mlog10\u001b[0m\u001b[1;33m(\u001b[0m\u001b[0mtheta_over_time\u001b[0m\u001b[1;33m)\u001b[0m\u001b[1;33m)\u001b[0m\u001b[1;33m\u001b[0m\u001b[0m\n",
      "\u001b[1;31mImportError\u001b[0m: No module named 'seaborn'"
     ]
    }
   ],
   "source": [
    "# plot the parameters trajectory\n",
    "nSamples = 500\n",
    "theta_over_time = zeros((nSamples, len(traj)))\n",
    "\n",
    "for i, pop in enumerate(populations):\n",
    "    m = pop.sample_from_population_matrix(nSamples)\n",
    "    theta_over_time[:,i] = m[:,2]/m[:,6]\n",
    "import seaborn as sns\n",
    "figure();\n",
    "sns.violinplot(data=log10(theta_over_time))"
   ]
  },
  {
   "cell_type": "code",
   "execution_count": 199,
   "metadata": {
    "collapsed": false
   },
   "outputs": [],
   "source": [
    "lastPop = populations[-1]\n",
    "m = lastPop.sample_from_population_matrix(nSamples)\n",
    "\n",
    "meanRates = np.array([m[:,0]/m[:,4], m[:,1]/m[:,5], m[:,2]/m[:,6], m[:,3]/m[:,7] ]).T\n",
    "pd.scatter_matrix(pd.DataFrame(meanRates));"
   ]
  },
  {
   "cell_type": "code",
   "execution_count": 85,
   "metadata": {
    "collapsed": false
   },
   "outputs": [],
   "source": [
    "rnaSTST = meanRates[:,0]/meanRates[:,1]\n",
    "proteinSTST = rnaSTST * meanRates[:,2]/meanRates[:,3]\n",
    "figure();\n",
    "hist(rnaSTST,100);\n",
    "#*meanRates[:,2]/(*meanRates[:3])\n",
    "\n",
    "figure();\n",
    "hist(proteinSTST,100);"
   ]
  },
  {
   "cell_type": "markdown",
   "metadata": {
    "collapsed": true
   },
   "source": [
    "# siome cython testing"
   ]
  },
  {
   "cell_type": "code",
   "execution_count": 46,
   "metadata": {
    "collapsed": false
   },
   "outputs": [],
   "source": [
    "import pyximport; pyximport.install()\n",
    "from SSA import forwardSim, forwardSim_cython"
   ]
  },
  {
   "cell_type": "code",
   "execution_count": 41,
   "metadata": {
    "collapsed": false
   },
   "outputs": [
    {
     "name": "stdout",
     "output_type": "stream",
     "text": [
      "1 loops, best of 3: 2.29 s per loop\n"
     ]
    }
   ],
   "source": [
    "%timeit forwardSim(0, [0,0], 10000, rates)"
   ]
  },
  {
   "cell_type": "code",
   "execution_count": 42,
   "metadata": {
    "collapsed": false
   },
   "outputs": [
    {
     "name": "stdout",
     "output_type": "stream",
     "text": [
      "1 loops, best of 3: 1.51 s per loop\n"
     ]
    }
   ],
   "source": [
    "%timeit forwardSim_cython(0, np.array([0,0]), 10000, np.array(rates))"
   ]
  },
  {
   "cell_type": "code",
   "execution_count": 47,
   "metadata": {
    "collapsed": false
   },
   "outputs": [],
   "source": [
    "import pstats, cProfile\n",
    "cProfile.runctx(\"forwardSim_cython(0, np.array([0,0]), 10000, np.array(rates))\", globals(), locals(), \"Profile.prof\")\n",
    "cProfile.runctx(\"forwardSim(0, np.array([0,0]), 10000, np.array(rates))\", globals(), locals(), \"Profile_slow.prof\")"
   ]
  },
  {
   "cell_type": "code",
   "execution_count": 44,
   "metadata": {
    "collapsed": false
   },
   "outputs": [
    {
     "name": "stdout",
     "output_type": "stream",
     "text": [
      "Fri Dec 18 16:01:12 2015    Profile_slow.prof\n",
      "\n",
      "         193034 function calls in 1.833 seconds\n",
      "\n",
      "   Ordered by: internal time\n",
      "\n",
      "   ncalls  tottime  percall  cumtime  percall filename:lineno(function)\n",
      "        1    1.606    1.606    1.832    1.832 {SSA.forwardSim}\n",
      "    96514    0.177    0.000    0.177    0.000 {method 'cumsum' of 'numpy.ndarray' objects}\n",
      "    96514    0.050    0.000    0.227    0.000 fromnumeric.py:2038(cumsum)\n",
      "        1    0.000    0.000    1.833    1.833 {built-in method builtins.exec}\n",
      "        2    0.000    0.000    0.000    0.000 {built-in method numpy.core.multiarray.array}\n",
      "        1    0.000    0.000    1.833    1.833 <string>:1(<module>)\n",
      "        1    0.000    0.000    0.000    0.000 {method 'disable' of '_lsprof.Profiler' objects}\n",
      "\n",
      "\n"
     ]
    },
    {
     "data": {
      "text/plain": [
       "<pstats.Stats at 0x7ff72413dda0>"
      ]
     },
     "execution_count": 44,
     "metadata": {},
     "output_type": "execute_result"
    }
   ],
   "source": [
    "s = pstats.Stats(\"Profile_slow.prof\")\n",
    "s.strip_dirs().sort_stats(\"time\").print_stats()"
   ]
  },
  {
   "cell_type": "code",
   "execution_count": 45,
   "metadata": {
    "collapsed": false
   },
   "outputs": [
    {
     "name": "stdout",
     "output_type": "stream",
     "text": [
      "Fri Dec 18 16:01:10 2015    Profile.prof\n",
      "\n",
      "         219714 function calls in 2.066 seconds\n",
      "\n",
      "   Ordered by: internal time\n",
      "\n",
      "   ncalls  tottime  percall  cumtime  percall filename:lineno(function)\n",
      "        1    1.800    1.800    2.066    2.066 {SSA.forwardSim_cython}\n",
      "   109854    0.203    0.000    0.203    0.000 {method 'cumsum' of 'numpy.ndarray' objects}\n",
      "   109854    0.063    0.000    0.266    0.000 fromnumeric.py:2038(cumsum)\n",
      "        1    0.000    0.000    2.066    2.066 {built-in method builtins.exec}\n",
      "        2    0.000    0.000    0.000    0.000 {built-in method numpy.core.multiarray.array}\n",
      "        1    0.000    0.000    2.066    2.066 <string>:1(<module>)\n",
      "        1    0.000    0.000    0.000    0.000 {method 'disable' of '_lsprof.Profiler' objects}\n",
      "\n",
      "\n"
     ]
    },
    {
     "data": {
      "text/plain": [
       "<pstats.Stats at 0x7ff710d0a438>"
      ]
     },
     "execution_count": 45,
     "metadata": {},
     "output_type": "execute_result"
    }
   ],
   "source": [
    "s = pstats.Stats(\"Profile.prof\")\n",
    "s.strip_dirs().sort_stats(\"time\").print_stats()"
   ]
  },
  {
   "cell_type": "code",
   "execution_count": null,
   "metadata": {
    "collapsed": true
   },
   "outputs": [],
   "source": []
  },
  {
   "cell_type": "code",
   "execution_count": 48,
   "metadata": {
    "collapsed": false
   },
   "outputs": [
    {
     "name": "stdout",
     "output_type": "stream",
     "text": [
      "Fri Dec 18 16:01:59 2015    Profile.prof\n",
      "\n",
      "         199484 function calls in 2.305 seconds\n",
      "\n",
      "   Ordered by: internal time\n",
      "\n",
      "   ncalls  tottime  percall  cumtime  percall filename:lineno(function)\n",
      "        1    2.005    2.005    2.305    2.305 {SSA.forwardSim_cython}\n",
      "    99739    0.229    0.000    0.229    0.000 {method 'cumsum' of 'numpy.ndarray' objects}\n",
      "    99739    0.071    0.000    0.300    0.000 fromnumeric.py:2038(cumsum)\n",
      "        1    0.000    0.000    2.305    2.305 {built-in method builtins.exec}\n",
      "        2    0.000    0.000    0.000    0.000 {built-in method numpy.core.multiarray.array}\n",
      "        1    0.000    0.000    2.305    2.305 <string>:1(<module>)\n",
      "        1    0.000    0.000    0.000    0.000 {method 'disable' of '_lsprof.Profiler' objects}\n",
      "\n",
      "\n"
     ]
    },
    {
     "data": {
      "text/plain": [
       "<pstats.Stats at 0x7ff710d222e8>"
      ]
     },
     "execution_count": 48,
     "metadata": {},
     "output_type": "execute_result"
    }
   ],
   "source": [
    "s = pstats.Stats(\"Profile.prof\")\n",
    "s.strip_dirs().sort_stats(\"time\").print_stats()"
   ]
  },
  {
   "cell_type": "code",
   "execution_count": null,
   "metadata": {
    "collapsed": true
   },
   "outputs": [],
   "source": []
  }
 ],
 "metadata": {
  "kernelspec": {
   "display_name": "Python 3",
   "language": "python",
   "name": "python3"
  },
  "language_info": {
   "codemirror_mode": {
    "name": "ipython",
    "version": 3
   },
   "file_extension": ".py",
   "mimetype": "text/x-python",
   "name": "python",
   "nbconvert_exporter": "python",
   "pygments_lexer": "ipython3",
   "version": "3.5.1"
  }
 },
 "nbformat": 4,
 "nbformat_minor": 0
}
